{
 "cells": [
  {
   "cell_type": "code",
   "execution_count": 60,
   "metadata": {},
   "outputs": [],
   "source": [
    "import sys\n",
    "import numpy as np\n",
    "import sklearn\n",
    "import matplotlib\n",
    "import pandas as pd"
   ]
  },
  {
   "cell_type": "code",
   "execution_count": 61,
   "metadata": {},
   "outputs": [],
   "source": [
    "# Read the training data to DF\n",
    "names = [\"PassengerId\", \"Survived\", \"Pclass\", \"Name\", \"Sex\", \"Age\", \"SibSp\", \"Parch\", \"Ticket\", \"Fare\", \"Cabin\", \"Embarked\"]\n",
    "df = pd.read_csv(\"train.csv\", names = names)"
   ]
  },
  {
   "cell_type": "code",
   "execution_count": 62,
   "metadata": {},
   "outputs": [
    {
     "name": "stdout",
     "output_type": "stream",
     "text": [
      "(892, 12)\n",
      "  PassengerId Survived Pclass  \\\n",
      "1           1        0      3   \n",
      "2           2        1      1   \n",
      "3           3        1      3   \n",
      "4           4        1      1   \n",
      "5           5        0      3   \n",
      "\n",
      "                                                Name     Sex Age SibSp Parch  \\\n",
      "1                            Braund, Mr. Owen Harris    male  22     1     0   \n",
      "2  Cumings, Mrs. John Bradley (Florence Briggs Th...  female  38     1     0   \n",
      "3                             Heikkinen, Miss. Laina  female  26     0     0   \n",
      "4       Futrelle, Mrs. Jacques Heath (Lily May Peel)  female  35     1     0   \n",
      "5                           Allen, Mr. William Henry    male  35     0     0   \n",
      "\n",
      "             Ticket     Fare Cabin Embarked  \n",
      "1         A/5 21171     7.25   NaN        S  \n",
      "2          PC 17599  71.2833   C85        C  \n",
      "3  STON/O2. 3101282    7.925   NaN        S  \n",
      "4            113803     53.1  C123        S  \n",
      "5            373450     8.05   NaN        S  \n"
     ]
    }
   ],
   "source": [
    "print(df.shape)\n",
    "\n",
    "# drop the first row as contain column names\n",
    "df = df.drop(df.index[0])\n",
    "\n",
    "print(df.head())"
   ]
  },
  {
   "cell_type": "code",
   "execution_count": 63,
   "metadata": {},
   "outputs": [
    {
     "name": "stdout",
     "output_type": "stream",
     "text": [
      "df columns : Index(['Survived', 'Pclass', 'Sex', 'Age', 'SibSp', 'Parch'], dtype='object')\n"
     ]
    }
   ],
   "source": [
    "# remove the un-neccsary columns\n",
    "df = df.drop(['PassengerId','Name', 'Ticket', 'Cabin', 'Embarked', 'Fare'], axis = 1)\n",
    "\n",
    "print(\"df columns : {}\".format(df.columns))"
   ]
  },
  {
   "cell_type": "code",
   "execution_count": 64,
   "metadata": {},
   "outputs": [],
   "source": [
    "# do label endcoding the gender feature\n",
    "from sklearn.preprocessing import LabelEncoder\n",
    "\n",
    "cat_features = ['Sex']\n",
    "encoder = LabelEncoder()\n",
    "encoded = df[cat_features].apply(encoder.fit_transform)\n",
    "\n",
    "data_cols = [\"Survived\", \"Pclass\", \"Age\", \"SibSp\", \"Parch\"]\n",
    "df_new = df[data_cols].join(encoded)"
   ]
  },
  {
   "cell_type": "code",
   "execution_count": 75,
   "metadata": {},
   "outputs": [],
   "source": [
    "# Simple Imputer to replace empty age with mean value\n",
    "\n",
    "from sklearn.impute import SimpleImputer\n",
    "\n",
    "imputer = SimpleImputer()\n",
    "imputed_X = pd.DataFrame(imputer.fit_transform(df_new))\n",
    "\n",
    "imputed_X.columns = df_new.columns"
   ]
  },
  {
   "cell_type": "code",
   "execution_count": 77,
   "metadata": {},
   "outputs": [
    {
     "name": "stdout",
     "output_type": "stream",
     "text": [
      "df_new columns : Index(['Survived', 'Pclass', 'Age', 'SibSp', 'Parch', 'Sex'], dtype='object')\n",
      "    Survived  Pclass        Age  SibSp  Parch  Sex\n",
      "0        0.0     3.0  22.000000    1.0    0.0  1.0\n",
      "1        1.0     1.0  38.000000    1.0    0.0  0.0\n",
      "2        1.0     3.0  26.000000    0.0    0.0  0.0\n",
      "3        1.0     1.0  35.000000    1.0    0.0  0.0\n",
      "4        0.0     3.0  35.000000    0.0    0.0  1.0\n",
      "5        0.0     3.0  29.699118    0.0    0.0  1.0\n",
      "6        0.0     1.0  54.000000    0.0    0.0  1.0\n",
      "7        0.0     3.0   2.000000    3.0    1.0  1.0\n",
      "8        1.0     3.0  27.000000    0.0    2.0  0.0\n",
      "9        1.0     2.0  14.000000    1.0    0.0  0.0\n",
      "10       1.0     3.0   4.000000    1.0    1.0  0.0\n",
      "11       1.0     1.0  58.000000    0.0    0.0  0.0\n",
      "12       0.0     3.0  20.000000    0.0    0.0  1.0\n",
      "13       0.0     3.0  39.000000    1.0    5.0  1.0\n",
      "14       0.0     3.0  14.000000    0.0    0.0  0.0\n",
      "15       1.0     2.0  55.000000    0.0    0.0  0.0\n",
      "16       0.0     3.0   2.000000    4.0    1.0  1.0\n",
      "17       1.0     2.0  29.699118    0.0    0.0  1.0\n",
      "18       0.0     3.0  31.000000    1.0    0.0  0.0\n",
      "19       1.0     3.0  29.699118    0.0    0.0  0.0\n"
     ]
    }
   ],
   "source": [
    "print(\"df_new columns : {}\".format(imputed_X.columns))\n",
    "\n",
    "print(imputed_X.head(20))"
   ]
  },
  {
   "cell_type": "code",
   "execution_count": 78,
   "metadata": {},
   "outputs": [
    {
     "data": {
      "image/png": "[encoded data removed]",
      "text/plain": [
       "<Figure size 720x720 with 36 Axes>"
      ]
     },
     "metadata": {
      "needs_background": "light"
     },
     "output_type": "display_data"
    }
   ],
   "source": [
    "from pandas.plotting import scatter_matrix\n",
    "import matplotlib.pyplot as plt\n",
    "\n",
    "# Display the scatter matrix plot\n",
    "scatter_matrix(imputed_X, figsize = (10,10))\n",
    "plt.show()"
   ]
  },
  {
   "cell_type": "code",
   "execution_count": 95,
   "metadata": {},
   "outputs": [
    {
     "name": "stdout",
     "output_type": "stream",
     "text": [
      "(891, 6)\n",
      "(891, 6)\n"
     ]
    }
   ],
   "source": [
    "print(imputed_X.shape)\n",
    "\n",
    "\n",
    "# Conver the df to numpy array\n",
    "dataset = imputed_X.values\n",
    "\n",
    "print(dataset.shape)\n",
    "\n",
    "# Split that into input (X) and output (Y)\n",
    "X = dataset[:,1:6]\n",
    "Y = dataset[:,0].astype(int)"
   ]
  },
  {
   "cell_type": "code",
   "execution_count": 96,
   "metadata": {},
   "outputs": [
    {
     "name": "stdout",
     "output_type": "stream",
     "text": [
      "(891, 5)\n",
      "(891,)\n",
      "[0 1 1 1 0 0 0 0 1 1 1 1 0 0 0 1 0 1 0 1 0 1 1 1 0 1 0 0 1 0 0 1 1 0 0 0 1\n",
      " 0 0 1 0 0 0 1 1 0 0 1 0 0 0 0 1 1 0 1 1 0 1 0 0 1 0 0 0 1 1 0 1 0 0 0 0 0\n",
      " 1 0 0 0 1 1 0 1 1 0 1 1 0 0 1 0 0 0 0 0 0 0 0 1 1 0 0 0 0 0 0 0 1 1 0 1 0\n",
      " 0 0 0 0 0 0 0 0 0 0 0 0 1 0 1 0 1 1 0 0 0 0 1 0 0 1 0 0 0 0 1 1 0 0 0 1 0\n",
      " 0 0 0 1 0 0 0 0 1 0 0 0 0 1 0 0 0 1 1 0 0 0 0 0 1 0 0 0 0 0 0 0 0 0 0 1 1\n",
      " 0 1 1 0 0 1 0 1 1 1 1 0 0 1 0 0 0 0 0 1 0 0 1 1 1 0 1 0 0 0 1 1 0 1 0 1 0\n",
      " 0 0 1 0 1 0 0 0 1 0 0 1 0 0 0 1 0 0 0 1 0 0 0 0 0 1 1 0 0 0 0 0 0 1 1 1 1\n",
      " 1 0 1 0 0 0 0 0 1 1 1 0 1 1 0 1 1 0 0 0 1 0 0 0 1 0 0 1 0 1 1 1 1 0 0 0 0\n",
      " 0 0 1 1 1 1 0 1 0 1 1 1 0 1 1 1 0 0 0 1 1 0 1 1 0 0 1 1 0 1 0 1 1 1 1 0 0\n",
      " 0 1 0 0 1 1 0 1 1 0 0 0 1 1 1 1 0 0 0 0 0 0 0 1 0 1 1 0 0 0 0 0 0 1 1 1 1\n",
      " 1 0 0 0 0 1 1 0 0 0 1 1 0 1 0 0 0 1 0 1 1 1 0 1 1 0 0 0 0 1 1 0 0 0 0 0 0\n",
      " 1 0 0 0 0 1 0 1 0 1 1 0 0 0 0 0 0 0 0 1 1 0 1 1 1 1 0 0 1 0 1 0 0 1 0 0 1\n",
      " 1 1 1 1 1 1 0 0 0 1 0 1 0 1 1 0 1 0 0 0 0 0 0 0 0 1 0 0 1 1 0 0 0 0 0 1 0\n",
      " 0 0 1 1 0 1 0 0 1 0 0 0 0 0 0 1 0 0 0 0 0 0 0 1 0 1 1 0 1 1 0 1 1 0 0 1 0\n",
      " 1 0 1 0 0 1 0 0 1 0 0 0 1 0 0 1 0 1 0 1 0 1 1 0 0 1 0 0 1 1 0 1 1 0 0 1 1\n",
      " 0 1 0 1 1 0 0 0 0 0 0 0 0 0 1 1 1 1 1 0 0 1 1 0 1 1 1 0 0 0 1 0 1 0 0 0 1\n",
      " 0 0 0 0 1 0 0 1 1 0 0 0 1 0 0 1 1 1 0 0 1 0 0 1 0 0 1 0 0 1 1 0 0 0 0 1 0\n",
      " 0 1 0 1 0 0 1 0 0 0 0 0 1 0 1 1 1 0 1 0 1 0 1 0 1 0 0 0 0 0 0 1 0 0 0 1 0\n",
      " 0 0 0 1 1 0 0 1 0 0 0 1 0 1 0 1 0 0 0 0 0 0 0 1 1 1 1 0 0 0 0 1 0 0 1 1 0\n",
      " 0 0 0 1 1 1 1 1 0 1 0 0 0 1 1 0 0 1 0 0 0 1 0 1 1 0 0 1 0 0 0 0 0 0 1 0 0\n",
      " 1 0 1 0 1 0 0 1 0 0 1 1 0 0 1 1 0 0 0 1 0 0 1 1 0 1 0 0 0 0 0 0 0 0 1 0 0\n",
      " 1 0 1 1 1 0 0 0 0 1 0 1 0 0 0 0 0 0 0 1 1 0 0 0 1 1 1 1 0 0 0 0 1 0 0 0 0\n",
      " 0 0 0 0 0 0 1 1 0 1 0 0 0 1 1 1 1 1 0 0 0 1 0 0 1 1 0 0 1 0 0 0 0 0 0 1 0\n",
      " 0 0 1 0 1 1 1 1 0 0 0 1 0 0 1 1 0 0 1 0 1 0 0 1 1 0 0 0 1 1 0 0 0 0 0 0 1\n",
      " 0 1 0]\n"
     ]
    }
   ],
   "source": [
    "print(X.shape)\n",
    "print(Y.shape)\n",
    "print(Y[:])"
   ]
  },
  {
   "cell_type": "code",
   "execution_count": 105,
   "metadata": {},
   "outputs": [],
   "source": [
    "# split the taining data to training and validaion dataset\n",
    "from sklearn.model_selection import train_test_split,KFold\n",
    "\n",
    "# Define a seed for reproducibility\n",
    "seed = 1\n",
    "\n",
    "x_train, x_valid, y_train, y_valid = train_test_split(X,Y,test_size = 0.2, random_state = seed, stratify=Y)"
   ]
  },
  {
   "cell_type": "code",
   "execution_count": 104,
   "metadata": {},
   "outputs": [
    {
     "name": "stdout",
     "output_type": "stream",
     "text": [
      "(712,)\n"
     ]
    }
   ],
   "source": [
    "print(y_train.shape)"
   ]
  },
  {
   "cell_type": "code",
   "execution_count": 103,
   "metadata": {},
   "outputs": [
    {
     "name": "stdout",
     "output_type": "stream",
     "text": [
      "(179,)\n"
     ]
    }
   ],
   "source": [
    "print(y_valid.shape)"
   ]
  },
  {
   "cell_type": "code",
   "execution_count": 127,
   "metadata": {},
   "outputs": [
    {
     "name": "stdout",
     "output_type": "stream",
     "text": [
      "K Nearest Neaighbours: 0.7613654147104852 0.05509660560143505\n",
      "0.7821229050279329\n",
      "SVM Linear: 0.8033059467918624 0.0483762744051106\n",
      "0.8268156424581006\n",
      "Decision Tree: 0.7822769953051644 0.039023345648843966\n",
      "0.8044692737430168\n",
      "Random Forest: 0.7991197183098592 0.0478954140846409\n",
      "0.8324022346368715\n",
      "AdaBoost: 0.7977699530516432 0.03824890693616125\n",
      "0.776536312849162\n"
     ]
    }
   ],
   "source": [
    "from sklearn import model_selection\n",
    "from sklearn.ensemble import RandomForestClassifier, AdaBoostClassifier\n",
    "from sklearn.neighbors import KNeighborsClassifier\n",
    "from sklearn.svm import SVC\n",
    "from sklearn.tree import DecisionTreeClassifier\n",
    "from sklearn.metrics import accuracy_score, classification_report\n",
    "\n",
    "# Define the scoring methods\n",
    "scoring = \"accuracy\"\n",
    "\n",
    "# Name the classifier to train model\n",
    "names = [\"K Nearest Neaighbours\", \"SVM Linear\", \"Decision Tree\", \"Random Forest\", \"AdaBoost\"]\n",
    "\n",
    "classifier = [\n",
    "    KNeighborsClassifier(n_neighbors = 5),\n",
    "    RandomForestClassifier(max_depth = 5, max_features=5, n_estimators=10),\n",
    "    SVC(kernel='linear'),\n",
    "    DecisionTreeClassifier(max_depth = 5),\n",
    "    AdaBoostClassifier()\n",
    "]\n",
    "\n",
    "# Create dictionary\n",
    "models = zip(names,classifier)\n",
    "\n",
    "for name,model in models:\n",
    "    kfold = KFold(n_splits=10, random_state=seed)\n",
    "    cv_results = model_selection.cross_val_score(model, x_train, y_train, cv = kfold, scoring=scoring)\n",
    "    print(\"{0}: {1} {2}\".format(name, cv_results.mean(), cv_results.std()))\n",
    "    model.fit(x_train,y_train)\n",
    "    predictions = model.predict(x_valid)\n",
    "    print(accuracy_score(y_valid,predictions))    \n",
    "    \n"
   ]
  },
  {
   "cell_type": "code",
   "execution_count": 138,
   "metadata": {},
   "outputs": [
    {
     "name": "stdout",
     "output_type": "stream",
     "text": [
      "(419, 11)\n",
      "  PassengerId Pclass                                          Name     Sex  \\\n",
      "1         892      3                              Kelly, Mr. James    male   \n",
      "2         893      3              Wilkes, Mrs. James (Ellen Needs)  female   \n",
      "3         894      2                     Myles, Mr. Thomas Francis    male   \n",
      "4         895      3                              Wirz, Mr. Albert    male   \n",
      "5         896      3  Hirvonen, Mrs. Alexander (Helga E Lindqvist)  female   \n",
      "\n",
      "    Age SibSp Parch   Ticket     Fare Cabin Embarked  \n",
      "1  34.5     0     0   330911   7.8292   NaN        Q  \n",
      "2    47     1     0   363272        7   NaN        S  \n",
      "3    62     0     0   240276   9.6875   NaN        Q  \n",
      "4    27     0     0   315154   8.6625   NaN        S  \n",
      "5    22     1     1  3101298  12.2875   NaN        S  \n",
      "df columns : Index(['Pclass', 'Sex', 'Age', 'SibSp', 'Parch'], dtype='object')\n",
      "(418, 5)\n",
      "           Pclass         Age       SibSp       Parch         Sex\n",
      "count  418.000000  418.000000  418.000000  418.000000  418.000000\n",
      "mean     2.265550   30.272590    0.447368    0.392344    0.636364\n",
      "std      0.841838   12.634534    0.896760    0.981429    0.481622\n",
      "min      1.000000    0.170000    0.000000    0.000000    0.000000\n",
      "25%      1.000000   23.000000    0.000000    0.000000    0.000000\n",
      "50%      3.000000   30.272590    0.000000    0.000000    1.000000\n",
      "75%      3.000000   35.750000    1.000000    0.000000    1.000000\n",
      "max      3.000000   76.000000    8.000000    9.000000    1.000000\n",
      "(418, 5)\n"
     ]
    }
   ],
   "source": [
    "# Make predictioon on testing data\n",
    "\n",
    "# Read the training data to DF\n",
    "names = [\"PassengerId\", \"Pclass\", \"Name\", \"Sex\", \"Age\", \"SibSp\", \"Parch\", \"Ticket\", \"Fare\", \"Cabin\", \"Embarked\"]\n",
    "df = pd.read_csv(\"test.csv\", names = names)\n",
    "\n",
    "print(df.shape)\n",
    "\n",
    "# drop the first row as contain column names\n",
    "df = df.drop(df.index[0])\n",
    "\n",
    "print(df.head())\n",
    "\n",
    "## store the passenger column\n",
    "passenger_col = df['PassengerId']\n",
    "\n",
    "# remove the un-neccsary columns\n",
    "df = df.drop(['PassengerId','Name', 'Ticket', 'Cabin', 'Embarked', 'Fare'], axis = 1)\n",
    "\n",
    "# do label endcoding the gender feature\n",
    "from sklearn.preprocessing import LabelEncoder\n",
    "\n",
    "cat_features = ['Sex']\n",
    "encoder = LabelEncoder()\n",
    "encoded = df[cat_features].apply(encoder.fit_transform)\n",
    "\n",
    "data_cols = [\"Pclass\", \"Age\", \"SibSp\", \"Parch\"]\n",
    "df_new = df[data_cols].join(encoded)\n",
    "\n",
    "# Simple Imputer to replace empty age with mean value\n",
    "\n",
    "from sklearn.impute import SimpleImputer\n",
    "\n",
    "imputer = SimpleImputer()\n",
    "imputed_X = pd.DataFrame(imputer.fit_transform(df_new))\n",
    "\n",
    "imputed_X.columns = df_new.columns\n",
    "\n",
    "print(\"df columns : {}\".format(df.columns))\n",
    "\n",
    "print(imputed_X.shape)\n",
    "print(imputed_X.describe())\n",
    "\n",
    "\n",
    "# Conver the df to numpy array\n",
    "dataset = imputed_X.values\n",
    "\n",
    "print(dataset.shape)\n",
    "\n",
    "# Split that into input (X) and output (Y)\n",
    "X_test = dataset"
   ]
  },
  {
   "cell_type": "code",
   "execution_count": 137,
   "metadata": {},
   "outputs": [
    {
     "name": "stdout",
     "output_type": "stream",
     "text": [
      "(418, 5)\n",
      "[[ 3.  34.5  0.   0.   1. ]\n",
      " [ 3.  47.   1.   0.   0. ]\n",
      " [ 2.  62.   0.   0.   1. ]\n",
      " [ 3.  27.   0.   0.   1. ]\n",
      " [ 3.  22.   1.   1.   0. ]\n",
      " [ 3.  14.   0.   0.   1. ]\n",
      " [ 3.  30.   0.   0.   0. ]\n",
      " [ 2.  26.   1.   1.   1. ]\n",
      " [ 3.  18.   0.   0.   0. ]\n",
      " [ 3.  21.   2.   0.   1. ]]\n"
     ]
    }
   ],
   "source": [
    "print(X_test.shape)\n",
    "print(X_test[0:10])"
   ]
  },
  {
   "cell_type": "code",
   "execution_count": 140,
   "metadata": {},
   "outputs": [],
   "source": [
    "# train and predict the model on testing data\n",
    "model = SVC(kernel='linear')\n",
    "model.fit(x_train,y_train)\n",
    "predictions = model.predict(X_test)\n"
   ]
  },
  {
   "cell_type": "code",
   "execution_count": 144,
   "metadata": {},
   "outputs": [],
   "source": [
    "my_submission = pd.DataFrame({'PassengerId': passenger_col, 'Survived': predictions})\n",
    "my_submission.to_csv('./output/gender_submission.csv', index=False)"
   ]
  },
  {
   "cell_type": "code",
   "execution_count": null,
   "metadata": {},
   "outputs": [],
   "source": []
  }
 ],
 "metadata": {
  "kernelspec": {
   "display_name": "Python 3",
   "language": "python",
   "name": "python3"
  },
  "language_info": {
   "codemirror_mode": {
    "name": "ipython",
    "version": 3
   },
   "file_extension": ".py",
   "mimetype": "text/x-python",
   "name": "python",
   "nbconvert_exporter": "python",
   "pygments_lexer": "ipython3",
   "version": "3.7.4"
  }
 },
 "nbformat": 4,
 "nbformat_minor": 4
}
