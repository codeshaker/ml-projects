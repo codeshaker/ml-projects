{
 "cells": [
  {
   "cell_type": "code",
   "execution_count": 1,
   "metadata": {},
   "outputs": [],
   "source": [
    "import sys\n",
    "import sklearn\n",
    "import matplotlib \n",
    "import numpy as np"
   ]
  },
  {
   "cell_type": "code",
   "execution_count": 2,
   "metadata": {},
   "outputs": [
    {
     "name": "stdout",
     "output_type": "stream",
     "text": [
      "Downloading data from https://s3.amazonaws.com/img-datasets/mnist.npz\n",
      "11493376/11490434 [==============================] - 9s 1us/step\n"
     ]
    }
   ],
   "source": [
    "from keras.datasets import mnist\n",
    "\n",
    "(x_train, y_train), (x_test, y_test) = mnist.load_data()"
   ]
  },
  {
   "cell_type": "code",
   "execution_count": 4,
   "metadata": {},
   "outputs": [
    {
     "name": "stdout",
     "output_type": "stream",
     "text": [
      "Training Data: (60000, 28, 28)\n",
      "Training Labels: (60000,)\n"
     ]
    }
   ],
   "source": [
    "print(\"Training Data: {}\".format(x_train.shape))\n",
    "print(\"Training Labels: {}\".format(y_train.shape))"
   ]
  },
  {
   "cell_type": "code",
   "execution_count": 5,
   "metadata": {},
   "outputs": [
    {
     "name": "stdout",
     "output_type": "stream",
     "text": [
      "Testing Data: (10000, 28, 28)\n",
      "Testing Labels: (10000,)\n"
     ]
    }
   ],
   "source": [
    "print(\"Testing Data: {}\".format(x_test.shape))\n",
    "print(\"Testing Labels: {}\".format(y_test.shape))"
   ]
  },
  {
   "cell_type": "code",
   "execution_count": 6,
   "metadata": {},
   "outputs": [],
   "source": [
    "import matplotlib.pyplot as plt\n",
    "\n",
    "# python magic funcition\n",
    "%matplotlib inline"
   ]
  },
  {
   "cell_type": "code",
   "execution_count": 23,
   "metadata": {},
   "outputs": [
    {
     "name": "stderr",
     "output_type": "stream",
     "text": [
      "C:\\ProgramData\\Anaconda3\\lib\\site-packages\\ipykernel_launcher.py:12: UserWarning: Matplotlib is currently using module://ipykernel.pylab.backend_inline, which is a non-GUI backend, so cannot show the figure.\n",
      "  if sys.path[0] == '':\n"
     ]
    },
    {
     "data": {
      "image/png": "[encoded data removed]",
      "text/plain": [
       "<Figure size 864x864 with 9 Axes>"
      ]
     },
     "metadata": {
      "needs_background": "light"
     },
     "output_type": "display_data"
    }
   ],
   "source": [
    "# Create a figgure with 2*3 subplot with matplotlib.pyplot\n",
    "fig, axs = plt.subplots(3, 3, figsize = (12, 12))\n",
    "plt.gray()\n",
    "\n",
    "# Loop through subplots and add mnist images\n",
    "for i, ax in enumerate(axs.flat):\n",
    "    ax.matshow(x_train[i])\n",
    "    ax.axis('off')\n",
    "    ax.set_title(\"Number {}\".format(y_train[i]))\n",
    "    \n",
    "# display figure\n",
    "fig.show()"
   ]
  },
  {
   "cell_type": "code",
   "execution_count": null,
   "metadata": {},
   "outputs": [],
   "source": [
    "# Preprocessing the images\n",
    "\n",
    "# convert each image to 1-dimensional array of length 28*28\n",
    "X = x_train.reshape(len(x_train), -1)\n",
    "Y = y_train\n",
    "\n",
    "# Normalize the data to 0 - 1\n",
    "X = X.astype(float) / 255.\n",
    "print(X.shape)\n",
    "print(X[0].shape)"
   ]
  },
  {
   "cell_type": "code",
   "execution_count": 18,
   "metadata": {},
   "outputs": [
    {
     "name": "stdout",
     "output_type": "stream",
     "text": [
      "10\n"
     ]
    },
    {
     "data": {
      "text/plain": [
       "MiniBatchKMeans(batch_size=100, compute_labels=True, init='k-means++',\n",
       "                init_size=None, max_iter=100, max_no_improvement=10,\n",
       "                n_clusters=10, n_init=3, random_state=None,\n",
       "                reassignment_ratio=0.01, tol=0.0, verbose=0)"
      ]
     },
     "execution_count": 18,
     "metadata": {},
     "output_type": "execute_result"
    }
   ],
   "source": [
    "from sklearn.cluster import MiniBatchKMeans\n",
    "\n",
    "n_digit = len(np.unique(y_test))\n",
    "print(n_digit)\n",
    "\n",
    "# Initialize the k-means model\n",
    "kmeans = MiniBatchKMeans(n_clusters= n_digit)\n",
    "\n",
    "# Fit the model to trainig data\n",
    "kmeans.fit(X)"
   ]
  },
  {
   "cell_type": "code",
   "execution_count": 20,
   "metadata": {},
   "outputs": [
    {
     "data": {
      "text/plain": [
       "array([4, 3, 6, 7, 2, 0, 1, 4, 1, 9, 4, 1, 4, 5, 1, 9, 0, 7, 5, 9])"
      ]
     },
     "execution_count": 20,
     "metadata": {},
     "output_type": "execute_result"
    }
   ],
   "source": [
    "kmeans.labels_[:20]"
   ]
  },
  {
   "cell_type": "code",
   "execution_count": 57,
   "metadata": {},
   "outputs": [],
   "source": [
    "def infer_cluster_labels(kmeans, actual_labels):\n",
    "    \"\"\"\n",
    "    Associate most probable label with each cluster in kMeans Model\n",
    "    returns : Dictionary of cluster assigned to each label\n",
    "    \"\"\"\n",
    "    \n",
    "    inferred_labels = {}\n",
    "    #print(kmeans.n_clusters)\n",
    "    \n",
    "    #print(\"Actual Labels : \",actual_labels[:20])\n",
    "    \n",
    "    for i in range(kmeans.n_clusters):\n",
    "        \n",
    "        #print(\"i: \",i)\n",
    "        \n",
    "        # Find the index of points in cluster\n",
    "        labels = []\n",
    "        index = np.where(kmeans.labels_ == i)\n",
    "        \n",
    "        #print(index)\n",
    "        \n",
    "        # append actual labels for each point in cluster\n",
    "        labels.append(actual_labels[index])\n",
    "        \n",
    "        #print(actual_labels[index])\n",
    "        \n",
    "        # Most common label\n",
    "        if len(labels[0]) == 1:\n",
    "            counts = np.bincount(labels[0])\n",
    "        else:\n",
    "            counts = np.bincount(np.squeeze(labels))\n",
    "            \n",
    "        #print(counts)\n",
    "            \n",
    "            \n",
    "        # Assign the cluster to a value in the inferred_labels dictionary\n",
    "        if np.argmax(counts) in inferred_labels:\n",
    "            # Append the new number to existing array at this key\n",
    "            inferred_labels[np.argmax(counts)].append(i)\n",
    "        else:\n",
    "            # Create a new array for this key\n",
    "            inferred_labels[np.argmax(counts)] = [i]\n",
    "            \n",
    "        #print(labels)\n",
    "        #print(\"Cluster: {}, label: {}\".format(i, np.argmax(counts)))\n",
    "            \n",
    "    return inferred_labels\n",
    "    \n",
    "    \n",
    "def infer_data_labels(X_labels, cluster_labels):\n",
    "    \"\"\"\n",
    "    Determine label for each array, depending on cluster it has been assigned to \n",
    "    returns: predicted label for each array\n",
    "    \"\"\"\n",
    "    \n",
    "    # empty array of len(X)\n",
    "    predicted_labels = np.zeros(len(X_labels)).astype(np.uint8)\n",
    "    \n",
    "    for i, cluster in enumerate(X_labels):\n",
    "        for key, value in cluster_labels.items():\n",
    "            if cluster in value:\n",
    "                predicted_labels[i] = key\n",
    "                \n",
    "    return predicted_labels\n",
    "    "
   ]
  },
  {
   "cell_type": "code",
   "execution_count": 58,
   "metadata": {},
   "outputs": [
    {
     "name": "stdout",
     "output_type": "stream",
     "text": [
      "[3 0 4 8 9 2 1 3 1 7 3 1 3 6 1 7 2 8 6 7]\n",
      "[5 0 4 1 9 2 1 3 1 4 3 5 3 6 1 7 2 8 6 9]\n"
     ]
    }
   ],
   "source": [
    "# Test the above 2 functions\n",
    "cluster_labels = infer_cluster_labels(kmeans, Y)\n",
    "X_clusters = kmeans.predict(X)\n",
    "predicted_labels = infer_data_labels(X_clusters, cluster_labels)\n",
    "print(predicted_labels[:20])\n",
    "print(Y[:20])"
   ]
  },
  {
   "cell_type": "code",
   "execution_count": 59,
   "metadata": {},
   "outputs": [],
   "source": [
    "# Optimizing and Evaluating the clustering algorithm\n",
    "\n",
    "from sklearn import metrics\n",
    "\n",
    "def calculate_metrics(estimator, data, labels):\n",
    "    \n",
    "    # Calculate and print metrics\n",
    "    print(\"Number of Clusters: {}\".format(estimator.n_clusters))\n",
    "    print(\"Inertial: {}\".format(estimator.inertia_))\n",
    "    print(\"Homogeneity: {}\".format(metrics.homogeneity_score(labels, estimator.labels_)))\n",
    "     "
   ]
  },
  {
   "cell_type": "code",
   "execution_count": 60,
   "metadata": {},
   "outputs": [
    {
     "name": "stdout",
     "output_type": "stream",
     "text": [
      "Number of Clusters: 10\n",
      "Inertial: 2406338.573971957\n",
      "Homogeneity: 0.42910931874593566\n",
      "Accuracy: 0.5382\n",
      "\n",
      "Number of Clusters: 16\n",
      "Inertial: 2285145.5013858895\n",
      "Homogeneity: 0.5249501681722406\n",
      "Accuracy: 0.6351333333333333\n",
      "\n",
      "Number of Clusters: 36\n",
      "Inertial: 1956263.195790506\n",
      "Homogeneity: 0.6773796620808432\n",
      "Accuracy: 0.7395833333333334\n",
      "\n",
      "Number of Clusters: 64\n",
      "Inertial: 1814843.3454080303\n",
      "Homogeneity: 0.7401185251002773\n",
      "Accuracy: 0.8090333333333334\n",
      "\n",
      "Number of Clusters: 144\n",
      "Inertial: 1633779.9034821826\n",
      "Homogeneity: 0.8100993949313097\n",
      "Accuracy: 0.8809833333333333\n",
      "\n",
      "Number of Clusters: 256\n",
      "Inertial: 1514255.4650206526\n",
      "Homogeneity: 0.840204769744693\n",
      "Accuracy: 0.8930333333333333\n",
      "\n"
     ]
    }
   ],
   "source": [
    "clusters = [10, 16, 36, 64, 144, 256]\n",
    "\n",
    "# Test different no of clusters\n",
    "for n_clusters in clusters:\n",
    "    \n",
    "    estimator = MiniBatchKMeans(n_clusters = n_clusters)\n",
    "    estimator.fit(X)\n",
    "    \n",
    "    # Print cluster matrix\n",
    "    calculate_metrics(estimator, X, Y)\n",
    "    \n",
    "    # Determine predicted labels\n",
    "    cluster_labels = infer_cluster_labels(estimator, Y)\n",
    "    predicted_Y = infer_data_labels(estimator.labels_, cluster_labels)\n",
    "    \n",
    "    # Print accuracy\n",
    "    print(\"Accuracy: {}\\n\".format(metrics.accuracy_score(Y, predicted_Y)))\n"
   ]
  },
  {
   "cell_type": "code",
   "execution_count": 61,
   "metadata": {},
   "outputs": [
    {
     "name": "stdout",
     "output_type": "stream",
     "text": [
      "Testing Accuracy: 0.8982\n"
     ]
    }
   ],
   "source": [
    "# Kmeans algorithm on testing datasets\n",
    "X_test = x_test.reshape(len(x_test), -1)\n",
    "\n",
    "#normalize\n",
    "X_test = X_test.astype(float) / 255\n",
    "\n",
    "# Initialize and fit Kmeans on trainig data\n",
    "kmeans = MiniBatchKMeans(n_clusters = 256)\n",
    "kmeans.fit(X)\n",
    "cluster_labels = infer_cluster_labels(kmeans, Y)\n",
    "\n",
    "#Predict the labels for testign data\n",
    "testing_cluster = kmeans.predict(X_test)\n",
    "predicted_labels = infer_data_labels(testing_cluster, cluster_labels)\n",
    "\n",
    "#Calculate and print accuracy\n",
    "print(\"Testing Accuracy: {}\".format(metrics.accuracy_score(y_test, predicted_labels)))\n"
   ]
  },
  {
   "cell_type": "code",
   "execution_count": 62,
   "metadata": {},
   "outputs": [
    {
     "name": "stderr",
     "output_type": "stream",
     "text": [
      "C:\\ProgramData\\Anaconda3\\lib\\site-packages\\ipykernel_launcher.py:34: UserWarning: Matplotlib is currently using module://ipykernel.pylab.backend_inline, which is a non-GUI backend, so cannot show the figure.\n"
     ]
    },
    {
     "data": {
      "image/png": "[encoded data removed]",
      "text/plain": [
       "<Figure size 864x864 with 36 Axes>"
      ]
     },
     "metadata": {
      "needs_background": "light"
     },
     "output_type": "display_data"
    }
   ],
   "source": [
    "#Visualize cluster centroid\n",
    "\n",
    "# initialize and fit the k_means algrithm\n",
    "kmeans = MiniBatchKMeans(n_clusters = 36)\n",
    "kmeans.fit(X)\n",
    "\n",
    "# Record centroid values\n",
    "centroids = kmeans.cluster_centers_\n",
    "\n",
    "# Reshape centroids into image\n",
    "images = centroids.reshape(36, 28, 28)\n",
    "images *= 255\n",
    "images = images.astype(np.uint8)\n",
    "\n",
    "# Determine cluster labels\n",
    "cluster_labels = infer_cluster_labels(kmeans, Y)\n",
    "\n",
    "# Create a figure with subplot\n",
    "fig, axs = plt.subplots(6, 6, figsize = (12, 12))\n",
    "plt.gray()\n",
    "\n",
    "# Loop through subplots and add centroid images\n",
    "for i, ax in enumerate(axs.flat):\n",
    "    \n",
    "    for key,value in cluster_labels.items():\n",
    "        if i in value:\n",
    "            ax.set_title(\"Inferred Label: {}\".format(key))\n",
    "            \n",
    "    \n",
    "    ax.matshow(images[i])\n",
    "    ax.axis('off')\n",
    "    \n",
    "# display figure\n",
    "fig.show()"
   ]
  },
  {
   "cell_type": "code",
   "execution_count": null,
   "metadata": {},
   "outputs": [],
   "source": []
  }
 ],
 "metadata": {
  "kernelspec": {
   "display_name": "Python 3",
   "language": "python",
   "name": "python3"
  },
  "language_info": {
   "codemirror_mode": {
    "name": "ipython",
    "version": 3
   },
   "file_extension": ".py",
   "mimetype": "text/x-python",
   "name": "python",
   "nbconvert_exporter": "python",
   "pygments_lexer": "ipython3",
   "version": "3.7.4"
  }
 },
 "nbformat": 4,
 "nbformat_minor": 4
}
