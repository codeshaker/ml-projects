{
 "cells": [
  {
   "cell_type": "code",
   "execution_count": 1,
   "metadata": {},
   "outputs": [],
   "source": [
    "import sys\n",
    "import sklearn\n",
    "import matplotlib \n",
    "import numpy as np"
   ]
  },
  {
   "cell_type": "code",
   "execution_count": 2,
   "metadata": {},
   "outputs": [
    {
     "name": "stdout",
     "output_type": "stream",
     "text": [
      "Downloading data from https://s3.amazonaws.com/img-datasets/mnist.npz\n",
      "11493376/11490434 [==============================] - 9s 1us/step\n"
     ]
    }
   ],
   "source": [
    "from keras.datasets import mnist\n",
    "\n",
    "(x_train, y_train), (x_test, y_test) = mnist.load_data()"
   ]
  },
  {
   "cell_type": "code",
   "execution_count": 4,
   "metadata": {},
   "outputs": [
    {
     "name": "stdout",
     "output_type": "stream",
     "text": [
      "Training Data: (60000, 28, 28)\n",
      "Training Labels: (60000,)\n"
     ]
    }
   ],
   "source": [
    "print(\"Training Data: {}\".format(x_train.shape))\n",
    "print(\"Training Labels: {}\".format(y_train.shape))"
   ]
  },
  {
   "cell_type": "code",
   "execution_count": 5,
   "metadata": {},
   "outputs": [
    {
     "name": "stdout",
     "output_type": "stream",
     "text": [
      "Testing Data: (10000, 28, 28)\n",
      "Testing Labels: (10000,)\n"
     ]
    }
   ],
   "source": [
    "print(\"Testing Data: {}\".format(x_test.shape))\n",
    "print(\"Testing Labels: {}\".format(y_test.shape))"
   ]
  },
  {
   "cell_type": "code",
   "execution_count": 6,
   "metadata": {},
   "outputs": [],
   "source": [
    "import matplotlib.pyplot as plt\n",
    "\n",
    "# python magic funcition\n",
    "%matplotlib inline"
   ]
  },
  {
   "cell_type": "code",
   "execution_count": 12,
   "metadata": {},
   "outputs": [
    {
     "name": "stderr",
     "output_type": "stream",
     "text": [
      "C:\\ProgramData\\Anaconda3\\lib\\site-packages\\ipykernel_launcher.py:12: UserWarning: Matplotlib is currently using module://ipykernel.pylab.backend_inline, which is a non-GUI backend, so cannot show the figure.\n",
      "  if sys.path[0] == '':\n"
     ]
    },
    {
     "data": {
      "image/png": "[encoded data removed]",
      "text/plain": [
       "<Figure size 864x864 with 9 Axes>"
      ]
     },
     "metadata": {
      "needs_background": "light"
     },
     "output_type": "display_data"
    }
   ],
   "source": [
    "# Create a figgure with 2*3 subplot with matplotlib.pyplot\n",
    "fig, axs = plt.subplots(3, 3, figsize = (12, 12))\n",
    "plt.gray()\n",
    "\n",
    "# Loop through subplots and add mnist images\n",
    "for i, ax in enumerate(axs.flat):\n",
    "    ax.matshow(x_train[100 + i])\n",
    "    ax.axis('off')\n",
    "    ax.set_title(\"Number {}\".format(y_train[100 + i]))\n",
    "    \n",
    "# display figure\n",
    "fig.show()"
   ]
  },
  {
   "cell_type": "code",
   "execution_count": null,
   "metadata": {},
   "outputs": [],
   "source": [
    "# Preprocessing the images\n",
    "\n",
    "# convert each image to 1-dimensional array of length 28*28\n",
    "X = x_train.reshape(len(x_train), -1)\n",
    "Y = y_train\n",
    "\n",
    "# Normalize the data to 0 - 1\n",
    "X = X.astype(float) / 255.\n",
    "print(X.shape)\n",
    "print(X[0].shape)"
   ]
  },
  {
   "cell_type": "code",
   "execution_count": 18,
   "metadata": {},
   "outputs": [
    {
     "name": "stdout",
     "output_type": "stream",
     "text": [
      "10\n"
     ]
    },
    {
     "data": {
      "text/plain": [
       "MiniBatchKMeans(batch_size=100, compute_labels=True, init='k-means++',\n",
       "                init_size=None, max_iter=100, max_no_improvement=10,\n",
       "                n_clusters=10, n_init=3, random_state=None,\n",
       "                reassignment_ratio=0.01, tol=0.0, verbose=0)"
      ]
     },
     "execution_count": 18,
     "metadata": {},
     "output_type": "execute_result"
    }
   ],
   "source": [
    "from sklearn.cluster import MiniBatchKMeans\n",
    "\n",
    "n_digit = len(np.unique(y_test))\n",
    "print(n_digit)\n",
    "\n",
    "# Initialize the k-means model\n",
    "kmeans = MiniBatchKMeans(n_clusters= n_digit)\n",
    "\n",
    "# Fit the model to trainig data\n",
    "kmeans.fit(X)"
   ]
  },
  {
   "cell_type": "code",
   "execution_count": 20,
   "metadata": {},
   "outputs": [
    {
     "data": {
      "text/plain": [
       "array([4, 3, 6, 7, 2, 0, 1, 4, 1, 9, 4, 1, 4, 5, 1, 9, 0, 7, 5, 9])"
      ]
     },
     "execution_count": 20,
     "metadata": {},
     "output_type": "execute_result"
    }
   ],
   "source": [
    "kmeans.labels_[:20]"
   ]
  },
  {
   "cell_type": "code",
   "execution_count": null,
   "metadata": {},
   "outputs": [],
   "source": [
    "def infer_cluster_labels(kmeans, actual_labels):\n",
    "    \"\"\"\n",
    "    Associate most probable label with each cluster in kMeans Model\n",
    "    returns : Dictionary of cluster assigned to each label\n",
    "    \"\"\"\n",
    "    \n",
    "    inferred_labels = {}\n",
    "    \n",
    "    for i in range(kmeans.n_clusters):\n",
    "        \n",
    "        # Find the index of points in cluster\n",
    "        labels = []\n",
    "        index = np.where(kmeans.labels_ == i)\n",
    "        \n",
    "        # append actual labels for each point in cluster\n",
    "        labels.append(actual_labels[index])\n",
    "        \n",
    "        # Most common label\n",
    "        if len(labels[0]) == 1:\n",
    "            counts = np.bincount(labels[0])\n",
    "        else:\n",
    "            counts = np.bincount(np.squeeze(labels))\n",
    "            \n",
    "            \n",
    "        # Assign the cluster to a value in the inferred_labels dictionary\n",
    "        if np.argmax(counts) in inferred_labels:\n",
    "            # Append the new number to existing array at this key\n",
    "            inferred_labels[np.argmax(counts)].append(i)\n",
    "        else:\n",
    "            # Create a new array for this key\n",
    "            inferred_labels[np.argmax(counts)] = [i]\n",
    "            \n",
    "        return inferred_labels\n",
    "    \n",
    "def infer_data_labels(x_labels, cluster_labels):"
   ]
  }
 ],
 "metadata": {
  "kernelspec": {
   "display_name": "Python 3",
   "language": "python",
   "name": "python3"
  },
  "language_info": {
   "codemirror_mode": {
    "name": "ipython",
    "version": 3
   },
   "file_extension": ".py",
   "mimetype": "text/x-python",
   "name": "python",
   "nbconvert_exporter": "python",
   "pygments_lexer": "ipython3",
   "version": "3.7.4"
  }
 },
 "nbformat": 4,
 "nbformat_minor": 4
}
